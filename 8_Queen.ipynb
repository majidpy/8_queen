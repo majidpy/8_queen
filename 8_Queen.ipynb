{
 "cells": [
  {
   "cell_type": "code",
   "execution_count": 1,
   "metadata": {
    "collapsed": true
   },
   "outputs": [],
   "source": [
    "import matplotlib.pyplot as plt\n",
    "import numpy as np\n",
    "import matplotlib\n",
    "%matplotlib inline"
   ]
  },
  {
   "cell_type": "code",
   "execution_count": 2,
   "metadata": {
    "collapsed": false
   },
   "outputs": [],
   "source": [
    "class Board:\n",
    "    \n",
    "    def __init__(self):        \n",
    "        self.board = np.ones(shape=(8,8))\n",
    "        \n",
    "        \n",
    "    def cross_taken(self, posns): # pos=[(1,1),(4,5)]\n",
    "        \n",
    "        for pos in posns:  \n",
    "            row = pos[0]\n",
    "            col = pos[1]\n",
    "\n",
    "            self.board[row,:] = 0\n",
    "            self.board[:, col] = 0\n",
    "            \n",
    "            if row>=col:\n",
    "                i=0\n",
    "                while 7-i-(row-col)>=0:\n",
    "                    self.board[7-i,7-i-(row-col)] = 0\n",
    "                    i+=1\n",
    "\n",
    "            if row<col:\n",
    "                i=0\n",
    "                while 7-i-(col-row)>=0:\n",
    "                    self.board[7-i-(col-row),7-i] = 0\n",
    "                    i+=1\n",
    "           \n",
    "            if col+row<=7:\n",
    "                i=0\n",
    "                while i<=col+row:\n",
    "                    self.board[(col+row)-i,i] = 0\n",
    "                    i+=1\n",
    "            else:\n",
    "                i=0\n",
    "                while i<=14-(col+row):\n",
    "                    self.board[7-i,(col+row)+i-7] = 0\n",
    "                    i+=1\n",
    "                    \n",
    "        \n",
    "class Queen:\n",
    "    \n",
    "    def __init__(self, board_obj, q):\n",
    "        self.possible_pos = np.nonzero(board_obj.board[q])[0]\n",
    "        if self.possible_pos.any():\n",
    "            self.position = self.possible_pos[0]\n",
    "            self.loc = 0\n",
    "        else:\n",
    "            self.position = False\n",
    "            self.loc = False\n",
    "    \n",
    "    def pos(self):\n",
    "        return self.position\n",
    "    \n",
    "    def move_next(self):\n",
    "        if self.loc+1<len(self.possible_pos):\n",
    "            self.loc = self.loc+1\n",
    "            self.position = self.possible_pos[self.loc]\n",
    "            return self.position\n",
    "        else:\n",
    "            return False        "
   ]
  },
  {
   "cell_type": "code",
   "execution_count": 3,
   "metadata": {
    "collapsed": false
   },
   "outputs": [
    {
     "name": "stderr",
     "output_type": "stream",
     "text": [
      "/home/majid/applications/anaconda3/lib/python3.6/site-packages/ipykernel/__main__.py:14: VisibleDeprecationWarning: using a boolean instead of an integer will result in an error in the future\n"
     ]
    }
   ],
   "source": [
    "board = Board()\n",
    "Q = [1]*8\n",
    "q = 0\n",
    "Q[q] = Queen(board, q)\n",
    "loc = list()\n",
    "sol = list()\n",
    "loc.append((q,Q[q].position))\n",
    "board.cross_taken(loc)\n",
    "s_test = True\n",
    "\n",
    "while s_test:\n",
    "    q +=1\n",
    "    Q[q] = Queen(board,q)\n",
    "    \n",
    "    # if possible position for Q[q] is not empty array:\n",
    "    if len(Q[q].possible_pos):\n",
    "        loc.append((q,Q[q].position))\n",
    "        board.cross_taken(loc)\n",
    "            \n",
    "    # If possible position is an empty array:\n",
    "    while not len(Q[q].possible_pos):\n",
    "        q -=1\n",
    "        check_point = Q[q].move_next()\n",
    "          \n",
    "            \n",
    "        while not check_point and q>0: #if already end of array\n",
    "            q -=1\n",
    "            check_point = Q[q].move_next()\n",
    "            \n",
    "        if q>0:\n",
    "            loc[q]=(q,check_point)  \n",
    "            board = Board()  # have to clean the entire board\n",
    "            loc = loc[0:q+1]\n",
    "            board.cross_taken(loc)\n",
    "            s_test = True\n",
    "            \n",
    "        else:\n",
    "            s_test = check_point \n",
    "            board = Board()  \n",
    "            loc=list()\n",
    "            loc.append((q,Q[q].position))\n",
    "            board.cross_taken(loc)\n",
    "                   \n",
    "    # we found an answer\n",
    "    if len(loc)==8:\n",
    "        sol.append(loc[:])\n",
    "        q -=1\n",
    "        check_point = Q[q].move_next()\n",
    "        \n",
    "        while not check_point and q>0: #if already end of array\n",
    "            q -=1\n",
    "            check_point = Q[q].move_next()\n",
    "    \n",
    "        if q>0:\n",
    "            loc[q]=(q,check_point)    \n",
    "            board = Board()  # have to clean the entire board\n",
    "            loc = loc[0:q+1]\n",
    "            board.cross_taken(loc)\n",
    "            s_test = True\n",
    "            \n",
    "        else:\n",
    "            # if we reach end and have to start from begining on queen[0]\n",
    "            s_test = Q[q].move_next()\n",
    "            board = Board()  \n",
    "            loc=list()\n",
    "            loc.append((q,Q[q].position))\n"
   ]
  },
  {
   "cell_type": "code",
   "execution_count": 4,
   "metadata": {
    "collapsed": false
   },
   "outputs": [
    {
     "data": {
      "text/plain": [
       "92"
      ]
     },
     "execution_count": 4,
     "metadata": {},
     "output_type": "execute_result"
    }
   ],
   "source": [
    "len(sol)"
   ]
  },
  {
   "cell_type": "code",
   "execution_count": 5,
   "metadata": {
    "collapsed": false
   },
   "outputs": [
    {
     "data": {
      "image/png": "[encoded data removed]",
      "text/plain": [
       "<matplotlib.figure.Figure at 0x7f4c14c17dd8>"
      ]
     },
     "metadata": {},
     "output_type": "display_data"
    }
   ],
   "source": [
    "sol_no = 85\n",
    "sol_plot_x = [sol[sol_no][i][0] for i in range(0,8)]\n",
    "\n",
    "sol_plot_y = [sol[sol_no][i][1] for i in range(0,8)]\n",
    "\n",
    "a = np.array([[1,0],[0,1]])\n",
    "a = np.append(a,a, axis=1)\n",
    "a = np.append(a,a, axis=1)\n",
    "a = np.append(a,a, axis=0)\n",
    "board = np.append(a,a, axis=0)\n",
    "\n",
    "fig, ax = plt.subplots(figsize=(8,8))\n",
    "\n",
    "plt.imshow(board, cmap='Greys_r')\n",
    "#ax.set_axis_off\n",
    "plt.scatter(sol_plot_y,sol_plot_x, marker=\"D\", color=\"red\", s=155)\n",
    "\n",
    "plt.show()"
   ]
  }
 ],
 "metadata": {
  "kernelspec": {
   "display_name": "Python 3",
   "language": "python",
   "name": "python3"
  },
  "language_info": {
   "codemirror_mode": {
    "name": "ipython",
    "version": 3
   },
   "file_extension": ".py",
   "mimetype": "text/x-python",
   "name": "python",
   "nbconvert_exporter": "python",
   "pygments_lexer": "ipython3",
   "version": "3.6.0"
  }
 },
 "nbformat": 4,
 "nbformat_minor": 2
}
